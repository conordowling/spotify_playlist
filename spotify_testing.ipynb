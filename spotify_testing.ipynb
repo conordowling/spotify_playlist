{
 "cells": [
  {
   "cell_type": "code",
   "execution_count": 2,
   "metadata": {
    "collapsed": false
   },
   "outputs": [],
   "source": [
    "import spotipy\n",
    "from pprint import pprint\n"
   ]
  },
  {
   "cell_type": "code",
   "execution_count": 3,
   "metadata": {
    "collapsed": true
   },
   "outputs": [],
   "source": [
    "sp = spotipy.Spotify()"
   ]
  },
  {
   "cell_type": "code",
   "execution_count": 18,
   "metadata": {
    "collapsed": false
   },
   "outputs": [
    {
     "name": "stdout",
     "output_type": "stream",
     "text": [
      "{u'album': {u'album_type': u'album',\n",
      "            u'available_markets': [u'CA', u'MX', u'US'],\n",
      "            u'external_urls': {u'spotify': u'https://open.spotify.com/album/7p7kcsrdoJ8DKQIMouujcb'},\n",
      "            u'href': u'https://api.spotify.com/v1/albums/7p7kcsrdoJ8DKQIMouujcb',\n",
      "            u'id': u'7p7kcsrdoJ8DKQIMouujcb',\n",
      "            u'images': [{u'height': 634,\n",
      "                         u'url': u'https://i.scdn.co/image/4a6bda7cd5abada66302428c06ae91aaaf27ecf0',\n",
      "                         u'width': 640},\n",
      "                        {u'height': 297,\n",
      "                         u'url': u'https://i.scdn.co/image/f794cbe6cf8d7db3a5e27cd5f58bcab65c571fb6',\n",
      "                         u'width': 300},\n",
      "                        {u'height': 63,\n",
      "                         u'url': u'https://i.scdn.co/image/517d423ad05df6729a99fef0fd69831b56a8e534',\n",
      "                         u'width': 64}],\n",
      "            u'name': u'Mama Said Knock You Out',\n",
      "            u'type': u'album',\n",
      "            u'uri': u'spotify:album:7p7kcsrdoJ8DKQIMouujcb'},\n",
      " u'artists': [{u'external_urls': {u'spotify': u'https://open.spotify.com/artist/1P8IfcNKwrkQP5xJWuhaOC'},\n",
      "               u'href': u'https://api.spotify.com/v1/artists/1P8IfcNKwrkQP5xJWuhaOC',\n",
      "               u'id': u'1P8IfcNKwrkQP5xJWuhaOC',\n",
      "               u'name': u'LL Cool J',\n",
      "               u'type': u'artist',\n",
      "               u'uri': u'spotify:artist:1P8IfcNKwrkQP5xJWuhaOC'}],\n",
      " u'available_markets': [u'CA', u'MX', u'US'],\n",
      " u'disc_number': 1,\n",
      " u'duration_ms': 289693,\n",
      " u'explicit': True,\n",
      " u'external_ids': {u'isrc': u'USDJ29000008'},\n",
      " u'external_urls': {u'spotify': u'https://open.spotify.com/track/6C7ZgThn6Yan5MTZdAEEFw'},\n",
      " u'href': u'https://api.spotify.com/v1/tracks/6C7ZgThn6Yan5MTZdAEEFw',\n",
      " u'id': u'6C7ZgThn6Yan5MTZdAEEFw',\n",
      " u'name': u'Mama Said Knock You Out',\n",
      " u'popularity': 55,\n",
      " u'preview_url': u'https://p.scdn.co/mp3-preview/81e5be28150dc8735d23f2d46b12a8153012f2b4',\n",
      " u'track_number': 8,\n",
      " u'type': u'track',\n",
      " u'uri': u'spotify:track:6C7ZgThn6Yan5MTZdAEEFw'}\n"
     ]
    }
   ],
   "source": [
    "results = sp.search(q='mama said knock you out', type='track')\n",
    "pprint(results['tracks']['items'][0])"
   ]
  },
  {
   "cell_type": "code",
   "execution_count": 16,
   "metadata": {
    "collapsed": false
   },
   "outputs": [
    {
     "name": "stdout",
     "output_type": "stream",
     "text": [
      "{u'tracks': {u'items': [{u'album': {u'album_type': u'album', u'name': u'Love Stuff', u'external_urls': {u'spotify': u'https://open.spotify.com/album/0B4eikFaUJcf3hc6DaSVov'}, u'uri': u'spotify:album:0B4eikFaUJcf3hc6DaSVov', u'href': u'https://api.spotify.com/v1/albums/0B4eikFaUJcf3hc6DaSVov', u'images': [{u'url': u'https://i.scdn.co/image/71a71941ad548221e3059009a10ad9102e3c565f', u'width': 640, u'height': 640}, {u'url': u'https://i.scdn.co/image/fb151d8660bf642ceb9841813ea5f85fe80a8011', u'width': 300, u'height': 300}, {u'url': u'https://i.scdn.co/image/99d68b20af4ae89abc6eb9fa057b1f0640c6b2b2', u'width': 64, u'height': 64}], u'type': u'album', u'id': u'0B4eikFaUJcf3hc6DaSVov', u'available_markets': [u'AR', u'AU', u'AT', u'BE', u'BO', u'BR', u'BG', u'CA', u'CL', u'CO', u'CR', u'CY', u'CZ', u'DK', u'DO', u'DE', u'EC', u'EE', u'SV', u'FI', u'FR', u'GR', u'GT', u'HN', u'HK', u'HU', u'IS', u'IE', u'IT', u'LV', u'LT', u'LU', u'MY', u'MT', u'MX', u'NL', u'NZ', u'NI', u'NO', u'PA', u'PY', u'PE', u'PH', u'PL', u'PT', u'SG', u'SK', u'ES', u'SE', u'CH', u'TW', u'TR', u'UY', u'US', u'GB', u'AD', u'LI', u'MC', u'ID']}, u'name': u\"Ex's & Oh's\", u'uri': u'spotify:track:70eDxAyAraNTiD6lx2ZEnH', u'external_urls': {u'spotify': u'https://open.spotify.com/track/70eDxAyAraNTiD6lx2ZEnH'}, u'popularity': 83, u'explicit': False, u'preview_url': u'https://p.scdn.co/mp3-preview/3aa3f3fd31bbc1d252bb916c140bbaa5baed45f6', u'track_number': 2, u'disc_number': 1, u'href': u'https://api.spotify.com/v1/tracks/70eDxAyAraNTiD6lx2ZEnH', u'artists': [{u'name': u'Elle King', u'external_urls': {u'spotify': u'https://open.spotify.com/artist/3bhu7P5PfngueRHiB9hjcx'}, u'uri': u'spotify:artist:3bhu7P5PfngueRHiB9hjcx', u'href': u'https://api.spotify.com/v1/artists/3bhu7P5PfngueRHiB9hjcx', u'type': u'artist', u'id': u'3bhu7P5PfngueRHiB9hjcx'}], u'duration_ms': 202173, u'external_ids': {u'isrc': u'USRC11401950'}, u'type': u'track', u'id': u'70eDxAyAraNTiD6lx2ZEnH', u'available_markets': [u'AR', u'AU', u'AT', u'BE', u'BO', u'BR', u'BG', u'CA', u'CL', u'CO', u'CR', u'CY', u'CZ', u'DK', u'DO', u'DE', u'EC', u'EE', u'SV', u'FI', u'FR', u'GR', u'GT', u'HN', u'HK', u'HU', u'IS', u'IE', u'IT', u'LV', u'LT', u'LU', u'MY', u'MT', u'MX', u'NL', u'NZ', u'NI', u'NO', u'PA', u'PY', u'PE', u'PH', u'PL', u'PT', u'SG', u'SK', u'ES', u'SE', u'CH', u'TW', u'TR', u'UY', u'US', u'GB', u'AD', u'LI', u'MC', u'ID']}, {u'album': {u'album_type': u'album', u'name': u'Exs And Ohs', u'external_urls': {u'spotify': u'https://open.spotify.com/album/2MDjVFVFWT9jpaDSxvzX5r'}, u'uri': u'spotify:album:2MDjVFVFWT9jpaDSxvzX5r', u'href': u'https://api.spotify.com/v1/albums/2MDjVFVFWT9jpaDSxvzX5r', u'images': [{u'url': u'https://i.scdn.co/image/78e979721822ff0e9e4d143be76a5aa9f76a2be2', u'width': 640, u'height': 640}, {u'url': u'https://i.scdn.co/image/72fe8909c845bc94f7c43326035b7707a3520f78', u'width': 300, u'height': 300}, {u'url': u'https://i.scdn.co/image/5a02db60639c2eea6de8e1649ba03d13e569a698', u'width': 64, u'height': 64}], u'type': u'album', u'id': u'2MDjVFVFWT9jpaDSxvzX5r', u'available_markets': [u'AR', u'AU', u'AT', u'BE', u'BO', u'BR', u'BG', u'CA', u'CL', u'CO', u'CR', u'CY', u'CZ', u'DK', u'DO', u'DE', u'EC', u'EE', u'SV', u'FI', u'FR', u'GR', u'GT', u'HN', u'HK', u'HU', u'IS', u'IE', u'IT', u'LV', u'LT', u'LU', u'MY', u'MT', u'MX', u'NL', u'NZ', u'NI', u'NO', u'PA', u'PY', u'PE', u'PH', u'PL', u'PT', u'SG', u'SK', u'ES', u'SE', u'CH', u'TW', u'TR', u'UY', u'US', u'GB', u'AD', u'LI', u'MC', u'ID']}, u'name': u'Exs And Ohs', u'uri': u'spotify:track:5Zx9MFrvy6UgPAybvhDcew', u'external_urls': {u'spotify': u'https://open.spotify.com/track/5Zx9MFrvy6UgPAybvhDcew'}, u'popularity': 58, u'explicit': False, u'preview_url': u'https://p.scdn.co/mp3-preview/0a970eaed7aef2aeb0f3a4b7c5957e2744d87648', u'track_number': 1, u'disc_number': 1, u'href': u'https://api.spotify.com/v1/tracks/5Zx9MFrvy6UgPAybvhDcew', u'artists': [{u'name': u'The Nicol Kings', u'external_urls': {u'spotify': u'https://open.spotify.com/artist/6Gf5dmKzurDnYP2enyV8pW'}, u'uri': u'spotify:artist:6Gf5dmKzurDnYP2enyV8pW', u'href': u'https://api.spotify.com/v1/artists/6Gf5dmKzurDnYP2enyV8pW', u'type': u'artist', u'id': u'6Gf5dmKzurDnYP2enyV8pW'}], u'duration_ms': 261000, u'external_ids': {u'isrc': u'TCACK1564802'}, u'type': u'track', u'id': u'5Zx9MFrvy6UgPAybvhDcew', u'available_markets': [u'AR', u'AU', u'AT', u'BE', u'BO', u'BR', u'BG', u'CA', u'CL', u'CO', u'CR', u'CY', u'CZ', u'DK', u'DO', u'DE', u'EC', u'EE', u'SV', u'FI', u'FR', u'GR', u'GT', u'HN', u'HK', u'HU', u'IS', u'IE', u'IT', u'LV', u'LT', u'LU', u'MY', u'MT', u'MX', u'NL', u'NZ', u'NI', u'NO', u'PA', u'PY', u'PE', u'PH', u'PL', u'PT', u'SG', u'SK', u'ES', u'SE', u'CH', u'TW', u'TR', u'UY', u'US', u'GB', u'AD', u'LI', u'MC', u'ID']}, {u'album': {u'album_type': u'single', u'name': u\"Ex's & Oh's\", u'external_urls': {u'spotify': u'https://open.spotify.com/album/3Ajo6U3AfyF5TtdIGAPMlx'}, u'uri': u'spotify:album:3Ajo6U3AfyF5TtdIGAPMlx', u'href': u'https://api.spotify.com/v1/albums/3Ajo6U3AfyF5TtdIGAPMlx', u'images': [{u'url': u'https://i.scdn.co/image/ff7880083043ae353da4f7c8aff2043e0cb83748', u'width': 640, u'height': 640}, {u'url': u'https://i.scdn.co/image/ea078517234941b240a6c8466bdcc59680c2ca7d', u'width': 300, u'height': 300}, {u'url': u'https://i.scdn.co/image/0c248c6fd19b8720b6f090e97e2448c6c43f2a5c', u'width': 64, u'height': 64}], u'type': u'album', u'id': u'3Ajo6U3AfyF5TtdIGAPMlx', u'available_markets': [u'AR', u'BE', u'BO', u'BR', u'BG', u'CA', u'CL', u'CO', u'CR', u'CY', u'CZ', u'DK', u'DO', u'EC', u'EE', u'SV', u'FI', u'FR', u'GR', u'GT', u'HN', u'HK', u'HU', u'IS', u'IE', u'IT', u'LV', u'LT', u'LU', u'MY', u'MT', u'MX', u'NL', u'NZ', u'NI', u'NO', u'PA', u'PY', u'PE', u'PH', u'PL', u'PT', u'SG', u'SK', u'ES', u'CH', u'TW', u'TR', u'UY', u'US', u'AD', u'LI', u'MC', u'ID']}, u'name': u\"Ex's & Oh's\", u'uri': u'spotify:track:637kmONo6eMUOd10n9z4xb', u'external_urls': {u'spotify': u'https://open.spotify.com/track/637kmONo6eMUOd10n9z4xb'}, u'popularity': 58, u'explicit': False, u'preview_url': u'https://p.scdn.co/mp3-preview/36ecad3df1c00898d3b6e8f166658ffb963e871a', u'track_number': 1, u'disc_number': 1, u'href': u'https://api.spotify.com/v1/tracks/637kmONo6eMUOd10n9z4xb', u'artists': [{u'name': u'Elle King', u'external_urls': {u'spotify': u'https://open.spotify.com/artist/3bhu7P5PfngueRHiB9hjcx'}, u'uri': u'spotify:artist:3bhu7P5PfngueRHiB9hjcx', u'href': u'https://api.spotify.com/v1/artists/3bhu7P5PfngueRHiB9hjcx', u'type': u'artist', u'id': u'3bhu7P5PfngueRHiB9hjcx'}], u'duration_ms': 201853, u'external_ids': {u'isrc': u'USRC11401950'}, u'type': u'track', u'id': u'637kmONo6eMUOd10n9z4xb', u'available_markets': [u'AR', u'BE', u'BO', u'BR', u'BG', u'CA', u'CL', u'CO', u'CR', u'CY', u'CZ', u'DK', u'DO', u'EC', u'EE', u'SV', u'FI', u'FR', u'GR', u'GT', u'HN', u'HK', u'HU', u'IS', u'IE', u'IT', u'LV', u'LT', u'LU', u'MY', u'MT', u'MX', u'NL', u'NZ', u'NI', u'NO', u'PA', u'PY', u'PE', u'PH', u'PL', u'PT', u'SG', u'SK', u'ES', u'CH', u'TW', u'TR', u'UY', u'US', u'AD', u'LI', u'MC', u'ID']}, {u'album': {u'album_type': u'single', u'name': u'Exs and Ohs (Acoustic Version)', u'external_urls': {u'spotify': u'https://open.spotify.com/album/6vuKDWUGRX0VqenWSvMDWG'}, u'uri': u'spotify:album:6vuKDWUGRX0VqenWSvMDWG', u'href': u'https://api.spotify.com/v1/albums/6vuKDWUGRX0VqenWSvMDWG', u'images': [{u'url': u'https://i.scdn.co/image/73a524a067709904291249b66b9632786f27b7f2', u'width': 640, u'height': 640}, {u'url': u'https://i.scdn.co/image/79e1f7b6cd177e2cb2adec4791703b019838aec7', u'width': 300, u'height': 300}, {u'url': u'https://i.scdn.co/image/09bd0c3172ae4058e4c92b09cc6c0976335cdba1', u'width': 64, u'height': 64}], u'type': u'album', u'id': u'6vuKDWUGRX0VqenWSvMDWG', u'available_markets': [u'AR', u'AU', u'AT', u'BE', u'BO', u'BR', u'BG', u'CA', u'CL', u'CO', u'CR', u'CY', u'CZ', u'DK', u'DO', u'DE', u'EC', u'EE', u'SV', u'FI', u'FR', u'GR', u'GT', u'HN', u'HK', u'HU', u'IS', u'IE', u'IT', u'LV', u'LT', u'LU', u'MY', u'MT', u'MX', u'NL', u'NZ', u'NI', u'NO', u'PA', u'PY', u'PE', u'PH', u'PL', u'PT', u'SG', u'SK', u'ES', u'SE', u'CH', u'TW', u'TR', u'UY', u'US', u'GB', u'AD', u'LI', u'MC', u'ID']}, u'name': u'Exs and Ohs (Acoustic Version)', u'uri': u'spotify:track:59ptxKJDyGjXPxRt5b68mK', u'external_urls': {u'spotify': u'https://open.spotify.com/track/59ptxKJDyGjXPxRt5b68mK'}, u'popularity': 47, u'explicit': False, u'preview_url': u'https://p.scdn.co/mp3-preview/ea94e1cd6cb0908c1c0f3b1ec4e6fb31b0d8dd6a', u'track_number': 1, u'disc_number': 1, u'href': u'https://api.spotify.com/v1/tracks/59ptxKJDyGjXPxRt5b68mK', u'artists': [{u'name': u'Kyla Fletcher', u'external_urls': {u'spotify': u'https://open.spotify.com/artist/21yvlgABtrru0T6CNwGh2L'}, u'uri': u'spotify:artist:21yvlgABtrru0T6CNwGh2L', u'href': u'https://api.spotify.com/v1/artists/21yvlgABtrru0T6CNwGh2L', u'type': u'artist', u'id': u'21yvlgABtrru0T6CNwGh2L'}], u'duration_ms': 204424, u'external_ids': {u'isrc': u'TCACG1582323'}, u'type': u'track', u'id': u'59ptxKJDyGjXPxRt5b68mK', u'available_markets': [u'AR', u'AU', u'AT', u'BE', u'BO', u'BR', u'BG', u'CA', u'CL', u'CO', u'CR', u'CY', u'CZ', u'DK', u'DO', u'DE', u'EC', u'EE', u'SV', u'FI', u'FR', u'GR', u'GT', u'HN', u'HK', u'HU', u'IS', u'IE', u'IT', u'LV', u'LT', u'LU', u'MY', u'MT', u'MX', u'NL', u'NZ', u'NI', u'NO', u'PA', u'PY', u'PE', u'PH', u'PL', u'PT', u'SG', u'SK', u'ES', u'SE', u'CH', u'TW', u'TR', u'UY', u'US', u'GB', u'AD', u'LI', u'MC', u'ID']}, {u'album': {u'album_type': u'album', u'name': u'A Deathgrip On Yesterday', u'external_urls': {u'spotify': u'https://open.spotify.com/album/2Bi5ehkGAGWmeFaUZQyiTI'}, u'uri': u'spotify:album:2Bi5ehkGAGWmeFaUZQyiTI', u'href': u'https://api.spotify.com/v1/albums/2Bi5ehkGAGWmeFaUZQyiTI', u'images': [{u'url': u'https://i.scdn.co/image/5fe317752b2d1c585f08e2c4ea0aa69497499912', u'width': 640, u'height': 640}, {u'url': u'https://i.scdn.co/image/349a8f7965237f810b88732bc9b4ae2c1aaed0ff', u'width': 300, u'height': 300}, {u'url': u'https://i.scdn.co/image/9978ab0abb26bfdf27b487afa4de77f555abb7e2', u'width': 64, u'height': 64}], u'type': u'album', u'id': u'2Bi5ehkGAGWmeFaUZQyiTI', u'available_markets': [u'AR', u'AU', u'AT', u'BE', u'BO', u'BR', u'BG', u'CA', u'CL', u'CO', u'CR', u'CY', u'CZ', u'DK', u'DO', u'DE', u'EC', u'EE', u'SV', u'FI', u'FR', u'GR', u'GT', u'HN', u'HK', u'HU', u'IS', u'IE', u'IT', u'LV', u'LT', u'LU', u'MY', u'MT', u'MX', u'NL', u'NZ', u'NI', u'NO', u'PA', u'PY', u'PE', u'PH', u'PL', u'PT', u'SG', u'SK', u'ES', u'SE', u'CH', u'TW', u'TR', u'UY', u'US', u'GB', u'AD', u'LI', u'MC', u'ID']}, u'name': u\"Ex's and Oh's\", u'uri': u'spotify:track:25QHZYz0DDEcMY5d9qPqda', u'external_urls': {u'spotify': u'https://open.spotify.com/track/25QHZYz0DDEcMY5d9qPqda'}, u'popularity': 52, u'explicit': False, u'preview_url': u'https://p.scdn.co/mp3-preview/bd6464e5ee8dd16fd0655de5d1ef2648eac743cc', u'track_number': 6, u'disc_number': 1, u'href': u'https://api.spotify.com/v1/tracks/25QHZYz0DDEcMY5d9qPqda', u'artists': [{u'name': u'Atreyu', u'external_urls': {u'spotify': u'https://open.spotify.com/artist/3LkSiHbjqOHCKCqBfEZOTv'}, u'uri': u'spotify:artist:3LkSiHbjqOHCKCqBfEZOTv', u'href': u'https://api.spotify.com/v1/artists/3LkSiHbjqOHCKCqBfEZOTv', u'type': u'artist', u'id': u'3LkSiHbjqOHCKCqBfEZOTv'}], u'duration_ms': 211893, u'external_ids': {u'isrc': u'USVIC0626706'}, u'type': u'track', u'id': u'25QHZYz0DDEcMY5d9qPqda', u'available_markets': [u'AR', u'AU', u'AT', u'BE', u'BO', u'BR', u'BG', u'CA', u'CL', u'CO', u'CR', u'CY', u'CZ', u'DK', u'DO', u'DE', u'EC', u'EE', u'SV', u'FI', u'FR', u'GR', u'GT', u'HN', u'HK', u'HU', u'IS', u'IE', u'IT', u'LV', u'LT', u'LU', u'MY', u'MT', u'MX', u'NL', u'NZ', u'NI', u'NO', u'PA', u'PY', u'PE', u'PH', u'PL', u'PT', u'SG', u'SK', u'ES', u'SE', u'CH', u'TW', u'TR', u'UY', u'US', u'GB', u'AD', u'LI', u'MC', u'ID']}, {u'album': {u'album_type': u'album', u'name': u'Exs And Ohs', u'external_urls': {u'spotify': u'https://open.spotify.com/album/2MDjVFVFWT9jpaDSxvzX5r'}, u'uri': u'spotify:album:2MDjVFVFWT9jpaDSxvzX5r', u'href': u'https://api.spotify.com/v1/albums/2MDjVFVFWT9jpaDSxvzX5r', u'images': [{u'url': u'https://i.scdn.co/image/78e979721822ff0e9e4d143be76a5aa9f76a2be2', u'width': 640, u'height': 640}, {u'url': u'https://i.scdn.co/image/72fe8909c845bc94f7c43326035b7707a3520f78', u'width': 300, u'height': 300}, {u'url': u'https://i.scdn.co/image/5a02db60639c2eea6de8e1649ba03d13e569a698', u'width': 64, u'height': 64}], u'type': u'album', u'id': u'2MDjVFVFWT9jpaDSxvzX5r', u'available_markets': [u'AR', u'AU', u'AT', u'BE', u'BO', u'BR', u'BG', u'CA', u'CL', u'CO', u'CR', u'CY', u'CZ', u'DK', u'DO', u'DE', u'EC', u'EE', u'SV', u'FI', u'FR', u'GR', u'GT', u'HN', u'HK', u'HU', u'IS', u'IE', u'IT', u'LV', u'LT', u'LU', u'MY', u'MT', u'MX', u'NL', u'NZ', u'NI', u'NO', u'PA', u'PY', u'PE', u'PH', u'PL', u'PT', u'SG', u'SK', u'ES', u'SE', u'CH', u'TW', u'TR', u'UY', u'US', u'GB', u'AD', u'LI', u'MC', u'ID']}, u'name': u'Exes And Ohs (Extended Remix)', u'uri': u'spotify:track:1lzc9BgT0zdOP6GXsI6A19', u'external_urls': {u'spotify': u'https://open.spotify.com/track/1lzc9BgT0zdOP6GXsI6A19'}, u'popularity': 49, u'explicit': False, u'preview_url': u'https://p.scdn.co/mp3-preview/938936fd5092103467bda712c0be7abb744025c8', u'track_number': 5, u'disc_number': 1, u'href': u'https://api.spotify.com/v1/tracks/1lzc9BgT0zdOP6GXsI6A19', u'artists': [{u'name': u'The Nicol Kings', u'external_urls': {u'spotify': u'https://open.spotify.com/artist/6Gf5dmKzurDnYP2enyV8pW'}, u'uri': u'spotify:artist:6Gf5dmKzurDnYP2enyV8pW', u'href': u'https://api.spotify.com/v1/artists/6Gf5dmKzurDnYP2enyV8pW', u'type': u'artist', u'id': u'6Gf5dmKzurDnYP2enyV8pW'}], u'duration_ms': 283285, u'external_ids': {u'isrc': u'TCACK1564806'}, u'type': u'track', u'id': u'1lzc9BgT0zdOP6GXsI6A19', u'available_markets': [u'AR', u'AU', u'AT', u'BE', u'BO', u'BR', u'BG', u'CA', u'CL', u'CO', u'CR', u'CY', u'CZ', u'DK', u'DO', u'DE', u'EC', u'EE', u'SV', u'FI', u'FR', u'GR', u'GT', u'HN', u'HK', u'HU', u'IS', u'IE', u'IT', u'LV', u'LT', u'LU', u'MY', u'MT', u'MX', u'NL', u'NZ', u'NI', u'NO', u'PA', u'PY', u'PE', u'PH', u'PL', u'PT', u'SG', u'SK', u'ES', u'SE', u'CH', u'TW', u'TR', u'UY', u'US', u'GB', u'AD', u'LI', u'MC', u'ID']}, {u'album': {u'album_type': u'album', u'name': u'Kidz Bop 31', u'external_urls': {u'spotify': u'https://open.spotify.com/album/13C9NtzzO8K8m9qrAHv3qv'}, u'uri': u'spotify:album:13C9NtzzO8K8m9qrAHv3qv', u'href': u'https://api.spotify.com/v1/albums/13C9NtzzO8K8m9qrAHv3qv', u'images': [{u'url': u'https://i.scdn.co/image/a8faa89e731138cd89594338e9e9eb875af750d7', u'width': 640, u'height': 640}, {u'url': u'https://i.scdn.co/image/1e34d5e08d79c71291a88589bd2596b855d17ab3', u'width': 300, u'height': 300}, {u'url': u'https://i.scdn.co/image/61a913b00857742d02484192959ea7fe4bbd91e5', u'width': 64, u'height': 64}], u'type': u'album', u'id': u'13C9NtzzO8K8m9qrAHv3qv', u'available_markets': [u'US']}, u'name': u\"Ex's and Oh's\", u'uri': u'spotify:track:7oDvv7NvGGOLs9JQj8spuG', u'external_urls': {u'spotify': u'https://open.spotify.com/track/7oDvv7NvGGOLs9JQj8spuG'}, u'popularity': 46, u'explicit': False, u'preview_url': u'https://p.scdn.co/mp3-preview/b5d0d159c5bbe27f9141e244b9fd7de4a5291a1c', u'track_number': 7, u'disc_number': 1, u'href': u'https://api.spotify.com/v1/tracks/7oDvv7NvGGOLs9JQj8spuG', u'artists': [{u'name': u'Kidz Bop Kids', u'external_urls': {u'spotify': u'https://open.spotify.com/artist/1Vvvx45Apu6dQqwuZQxtgW'}, u'uri': u'spotify:artist:1Vvvx45Apu6dQqwuZQxtgW', u'href': u'https://api.spotify.com/v1/artists/1Vvvx45Apu6dQqwuZQxtgW', u'type': u'artist', u'id': u'1Vvvx45Apu6dQqwuZQxtgW'}], u'duration_ms': 202800, u'external_ids': {u'isrc': u'USRZO1539307'}, u'type': u'track', u'id': u'7oDvv7NvGGOLs9JQj8spuG', u'available_markets': [u'US']}, {u'album': {u'album_type': u'album', u'name': u'Exs And Ohs', u'external_urls': {u'spotify': u'https://open.spotify.com/album/2MDjVFVFWT9jpaDSxvzX5r'}, u'uri': u'spotify:album:2MDjVFVFWT9jpaDSxvzX5r', u'href': u'https://api.spotify.com/v1/albums/2MDjVFVFWT9jpaDSxvzX5r', u'images': [{u'url': u'https://i.scdn.co/image/78e979721822ff0e9e4d143be76a5aa9f76a2be2', u'width': 640, u'height': 640}, {u'url': u'https://i.scdn.co/image/72fe8909c845bc94f7c43326035b7707a3520f78', u'width': 300, u'height': 300}, {u'url': u'https://i.scdn.co/image/5a02db60639c2eea6de8e1649ba03d13e569a698', u'width': 64, u'height': 64}], u'type': u'album', u'id': u'2MDjVFVFWT9jpaDSxvzX5r', u'available_markets': [u'AR', u'AU', u'AT', u'BE', u'BO', u'BR', u'BG', u'CA', u'CL', u'CO', u'CR', u'CY', u'CZ', u'DK', u'DO', u'DE', u'EC', u'EE', u'SV', u'FI', u'FR', u'GR', u'GT', u'HN', u'HK', u'HU', u'IS', u'IE', u'IT', u'LV', u'LT', u'LU', u'MY', u'MT', u'MX', u'NL', u'NZ', u'NI', u'NO', u'PA', u'PY', u'PE', u'PH', u'PL', u'PT', u'SG', u'SK', u'ES', u'SE', u'CH', u'TW', u'TR', u'UY', u'US', u'GB', u'AD', u'LI', u'MC', u'ID']}, u'name': u'Exs And Ohs (Radio Edit)', u'uri': u'spotify:track:3a8L33sWdoOIzDTu4zd2Jw', u'external_urls': {u'spotify': u'https://open.spotify.com/track/3a8L33sWdoOIzDTu4zd2Jw'}, u'popularity': 46, u'explicit': False, u'preview_url': u'https://p.scdn.co/mp3-preview/b473d764f578fa4c09ce2ebcbc6fe05518e40530', u'track_number': 2, u'disc_number': 1, u'href': u'https://api.spotify.com/v1/tracks/3a8L33sWdoOIzDTu4zd2Jw', u'artists': [{u'name': u'The Nicol Kings', u'external_urls': {u'spotify': u'https://open.spotify.com/artist/6Gf5dmKzurDnYP2enyV8pW'}, u'uri': u'spotify:artist:6Gf5dmKzurDnYP2enyV8pW', u'href': u'https://api.spotify.com/v1/artists/6Gf5dmKzurDnYP2enyV8pW', u'type': u'artist', u'id': u'6Gf5dmKzurDnYP2enyV8pW'}], u'duration_ms': 200571, u'external_ids': {u'isrc': u'TCACK1564803'}, u'type': u'track', u'id': u'3a8L33sWdoOIzDTu4zd2Jw', u'available_markets': [u'AR', u'AU', u'AT', u'BE', u'BO', u'BR', u'BG', u'CA', u'CL', u'CO', u'CR', u'CY', u'CZ', u'DK', u'DO', u'DE', u'EC', u'EE', u'SV', u'FI', u'FR', u'GR', u'GT', u'HN', u'HK', u'HU', u'IS', u'IE', u'IT', u'LV', u'LT', u'LU', u'MY', u'MT', u'MX', u'NL', u'NZ', u'NI', u'NO', u'PA', u'PY', u'PE', u'PH', u'PL', u'PT', u'SG', u'SK', u'ES', u'SE', u'CH', u'TW', u'TR', u'UY', u'US', u'GB', u'AD', u'LI', u'MC', u'ID']}, {u'album': {u'album_type': u'single', u'name': u\"Ex's & Oh's\", u'external_urls': {u'spotify': u'https://open.spotify.com/album/3VfyvkkAmNUDhpJavHPsp1'}, u'uri': u'spotify:album:3VfyvkkAmNUDhpJavHPsp1', u'href': u'https://api.spotify.com/v1/albums/3VfyvkkAmNUDhpJavHPsp1', u'images': [{u'url': u'https://i.scdn.co/image/31ca85c8de347abb7d80fbad8e4b78e588e64a16', u'width': 640, u'height': 640}, {u'url': u'https://i.scdn.co/image/392229c432d076bb5d739f5608a255f1c14c3e34', u'width': 300, u'height': 300}, {u'url': u'https://i.scdn.co/image/fcf0ebf7f219acd1790a637bbd53706f0f260158', u'width': 64, u'height': 64}], u'type': u'album', u'id': u'3VfyvkkAmNUDhpJavHPsp1', u'available_markets': [u'AR', u'AU', u'AT', u'BE', u'BO', u'BR', u'BG', u'CA', u'CL', u'CO', u'CR', u'CY', u'CZ', u'DK', u'DO', u'DE', u'EC', u'EE', u'SV', u'FI', u'FR', u'GR', u'GT', u'HN', u'HK', u'HU', u'IS', u'IE', u'IT', u'LV', u'LT', u'LU', u'MY', u'MT', u'MX', u'NL', u'NZ', u'NI', u'NO', u'PA', u'PY', u'PE', u'PH', u'PL', u'PT', u'SG', u'SK', u'ES', u'SE', u'CH', u'TW', u'TR', u'UY', u'US', u'GB', u'AD', u'LI', u'MC', u'ID']}, u'name': u\"Ex's & Oh's\", u'uri': u'spotify:track:3lRjH9uCwtKNQJRKIZXuLO', u'external_urls': {u'spotify': u'https://open.spotify.com/track/3lRjH9uCwtKNQJRKIZXuLO'}, u'popularity': 53, u'explicit': False, u'preview_url': u'https://p.scdn.co/mp3-preview/6789185b0a1cf8af753f0a2c1e8be98bbbde499a', u'track_number': 1, u'disc_number': 1, u'href': u'https://api.spotify.com/v1/tracks/3lRjH9uCwtKNQJRKIZXuLO', u'artists': [{u'name': u'Chase Holfelder', u'external_urls': {u'spotify': u'https://open.spotify.com/artist/5l6RNqtZu9abHKcHrt5wRK'}, u'uri': u'spotify:artist:5l6RNqtZu9abHKcHrt5wRK', u'href': u'https://api.spotify.com/v1/artists/5l6RNqtZu9abHKcHrt5wRK', u'type': u'artist', u'id': u'5l6RNqtZu9abHKcHrt5wRK'}], u'duration_ms': 202108, u'external_ids': {u'isrc': u'TCACE1592158'}, u'type': u'track', u'id': u'3lRjH9uCwtKNQJRKIZXuLO', u'available_markets': [u'AR', u'AU', u'AT', u'BE', u'BO', u'BR', u'BG', u'CA', u'CL', u'CO', u'CR', u'CY', u'CZ', u'DK', u'DO', u'DE', u'EC', u'EE', u'SV', u'FI', u'FR', u'GR', u'GT', u'HN', u'HK', u'HU', u'IS', u'IE', u'IT', u'LV', u'LT', u'LU', u'MY', u'MT', u'MX', u'NL', u'NZ', u'NI', u'NO', u'PA', u'PY', u'PE', u'PH', u'PL', u'PT', u'SG', u'SK', u'ES', u'SE', u'CH', u'TW', u'TR', u'UY', u'US', u'GB', u'AD', u'LI', u'MC', u'ID']}, {u'album': {u'album_type': u'album', u'name': u'M.P.H 2015', u'external_urls': {u'spotify': u'https://open.spotify.com/album/6CWsNhSEvOcMjHPRsVqVyL'}, u'uri': u'spotify:album:6CWsNhSEvOcMjHPRsVqVyL', u'href': u'https://api.spotify.com/v1/albums/6CWsNhSEvOcMjHPRsVqVyL', u'images': [{u'url': u'https://i.scdn.co/image/754008905e7174645e28e81db5a22c8929edffc7', u'width': 640, u'height': 640}, {u'url': u'https://i.scdn.co/image/82b6f0cb25f876d5a93518c94cd1c1301c609f8d', u'width': 300, u'height': 300}, {u'url': u'https://i.scdn.co/image/e19943531dbb8518bcc48a3d242a89d3c59e973e', u'width': 64, u'height': 64}], u'type': u'album', u'id': u'6CWsNhSEvOcMjHPRsVqVyL', u'available_markets': [u'AR', u'AU', u'AT', u'BE', u'BO', u'BR', u'BG', u'CA', u'CL', u'CO', u'CR', u'CY', u'CZ', u'DK', u'DO', u'DE', u'EC', u'EE', u'SV', u'FI', u'FR', u'GR', u'GT', u'HN', u'HK', u'HU', u'IS', u'IE', u'IT', u'LV', u'LT', u'LU', u'MY', u'MT', u'MX', u'NL', u'NZ', u'NI', u'NO', u'PA', u'PY', u'PE', u'PH', u'PL', u'PT', u'SG', u'SK', u'ES', u'SE', u'CH', u'TW', u'TR', u'UY', u'US', u'GB', u'AD', u'LI', u'MC', u'ID']}, u'name': u'Exs and Ohs', u'uri': u'spotify:track:51XJ89etaex4SbmYg99YBR', u'external_urls': {u'spotify': u'https://open.spotify.com/track/51XJ89etaex4SbmYg99YBR'}, u'popularity': 37, u'explicit': False, u'preview_url': u'https://p.scdn.co/mp3-preview/b897126411e568ad4aa438426c0107fbb150d5c5', u'track_number': 5, u'disc_number': 1, u'href': u'https://api.spotify.com/v1/tracks/51XJ89etaex4SbmYg99YBR', u'artists': [{u'name': u'1672 Diesel', u'external_urls': {u'spotify': u'https://open.spotify.com/artist/20Gqh2plIGy2NyL0h4I442'}, u'uri': u'spotify:artist:20Gqh2plIGy2NyL0h4I442', u'href': u'https://api.spotify.com/v1/artists/20Gqh2plIGy2NyL0h4I442', u'type': u'artist', u'id': u'20Gqh2plIGy2NyL0h4I442'}], u'duration_ms': 203572, u'external_ids': {u'isrc': u'SEYOK1534127'}, u'type': u'track', u'id': u'51XJ89etaex4SbmYg99YBR', u'available_markets': [u'AR', u'AU', u'AT', u'BE', u'BO', u'BR', u'BG', u'CA', u'CL', u'CO', u'CR', u'CY', u'CZ', u'DK', u'DO', u'DE', u'EC', u'EE', u'SV', u'FI', u'FR', u'GR', u'GT', u'HN', u'HK', u'HU', u'IS', u'IE', u'IT', u'LV', u'LT', u'LU', u'MY', u'MT', u'MX', u'NL', u'NZ', u'NI', u'NO', u'PA', u'PY', u'PE', u'PH', u'PL', u'PT', u'SG', u'SK', u'ES', u'SE', u'CH', u'TW', u'TR', u'UY', u'US', u'GB', u'AD', u'LI', u'MC', u'ID']}], u'next': u'https://api.spotify.com/v1/search?query=eXs+and+Ohs&offset=10&limit=10&type=track', u'href': u'https://api.spotify.com/v1/search?query=eXs+and+Ohs&offset=0&limit=10&type=track', u'limit': 10, u'offset': 0, u'total': 205, u'previous': None}}\n"
     ]
    }
   ],
   "source": [
    "pprint(results)"
   ]
  },
  {
   "cell_type": "code",
   "execution_count": 18,
   "metadata": {
    "collapsed": false
   },
   "outputs": [
    {
     "name": "stdout",
     "output_type": "stream",
     "text": [
      "u\"Ex's & Oh's\"\n",
      "u'Exs And Ohs'\n",
      "u\"Ex's & Oh's\"\n",
      "u'Exs and Ohs (Acoustic Version)'\n",
      "u\"Ex's and Oh's\"\n",
      "u'Exes And Ohs (Extended Remix)'\n",
      "u\"Ex's and Oh's\"\n",
      "u'Exs And Ohs (Radio Edit)'\n",
      "u\"Ex's & Oh's\"\n",
      "u'Exs and Ohs'\n"
     ]
    }
   ],
   "source": [
    "for item in results['tracks']['items']:\n",
    "    pprint(item['name'])"
   ]
  },
  {
   "cell_type": "code",
   "execution_count": 11,
   "metadata": {
    "collapsed": false
   },
   "outputs": [
    {
     "name": "stdout",
     "output_type": "stream",
     "text": [
      "{u'album': {u'album_type': u'single',\n",
      "            u'available_markets': [u'AR',\n",
      "                                   u'AU',\n",
      "                                   u'AT',\n",
      "                                   u'BE',\n",
      "                                   u'BO',\n",
      "                                   u'BR',\n",
      "                                   u'BG',\n",
      "                                   u'CA',\n",
      "                                   u'CL',\n",
      "                                   u'CO',\n",
      "                                   u'CR',\n",
      "                                   u'CY',\n",
      "                                   u'CZ',\n",
      "                                   u'DK',\n",
      "                                   u'DO',\n",
      "                                   u'DE',\n",
      "                                   u'EC',\n",
      "                                   u'EE',\n",
      "                                   u'SV',\n",
      "                                   u'FI',\n",
      "                                   u'FR',\n",
      "                                   u'GR',\n",
      "                                   u'GT',\n",
      "                                   u'HN',\n",
      "                                   u'HK',\n",
      "                                   u'HU',\n",
      "                                   u'IS',\n",
      "                                   u'IE',\n",
      "                                   u'IT',\n",
      "                                   u'LV',\n",
      "                                   u'LT',\n",
      "                                   u'LU',\n",
      "                                   u'MY',\n",
      "                                   u'MT',\n",
      "                                   u'MX',\n",
      "                                   u'NL',\n",
      "                                   u'NZ',\n",
      "                                   u'NI',\n",
      "                                   u'NO',\n",
      "                                   u'PA',\n",
      "                                   u'PY',\n",
      "                                   u'PE',\n",
      "                                   u'PH',\n",
      "                                   u'PL',\n",
      "                                   u'PT',\n",
      "                                   u'SG',\n",
      "                                   u'SK',\n",
      "                                   u'ES',\n",
      "                                   u'SE',\n",
      "                                   u'CH',\n",
      "                                   u'TW',\n",
      "                                   u'TR',\n",
      "                                   u'UY',\n",
      "                                   u'US',\n",
      "                                   u'GB',\n",
      "                                   u'AD',\n",
      "                                   u'LI',\n",
      "                                   u'MC',\n",
      "                                   u'ID'],\n",
      "            u'external_urls': {u'spotify': u'https://open.spotify.com/album/5tRAHUY5aGoApbZ1BFbCy0'},\n",
      "            u'href': u'https://api.spotify.com/v1/albums/5tRAHUY5aGoApbZ1BFbCy0',\n",
      "            u'id': u'5tRAHUY5aGoApbZ1BFbCy0',\n",
      "            u'images': [{u'height': 640,\n",
      "                         u'url': u'https://i.scdn.co/image/dcfae49be474be992c11e2a11ac39d937d56596c',\n",
      "                         u'width': 640},\n",
      "                        {u'height': 300,\n",
      "                         u'url': u'https://i.scdn.co/image/b0b997c16dc6851f1294a937dcc9f14dad2c416c',\n",
      "                         u'width': 300},\n",
      "                        {u'height': 64,\n",
      "                         u'url': u'https://i.scdn.co/image/1ac84b4ad88cea651673a3d5d1a3d0b2a678ab35',\n",
      "                         u'width': 64}],\n",
      "            u'name': u'Silver Scrapes (As Featured in League of Legends Season 2 World Championship)',\n",
      "            u'type': u'album',\n",
      "            u'uri': u'spotify:album:5tRAHUY5aGoApbZ1BFbCy0'},\n",
      " u'artists': [{u'external_urls': {u'spotify': u'https://open.spotify.com/artist/7DwRUbeUcxTRgfRGdqCpe7'},\n",
      "               u'href': u'https://api.spotify.com/v1/artists/7DwRUbeUcxTRgfRGdqCpe7',\n",
      "               u'id': u'7DwRUbeUcxTRgfRGdqCpe7',\n",
      "               u'name': u'Danny McCarthy',\n",
      "               u'type': u'artist',\n",
      "               u'uri': u'spotify:artist:7DwRUbeUcxTRgfRGdqCpe7'}],\n",
      " u'available_markets': [u'AR',\n",
      "                        u'AU',\n",
      "                        u'AT',\n",
      "                        u'BE',\n",
      "                        u'BO',\n",
      "                        u'BR',\n",
      "                        u'BG',\n",
      "                        u'CA',\n",
      "                        u'CL',\n",
      "                        u'CO',\n",
      "                        u'CR',\n",
      "                        u'CY',\n",
      "                        u'CZ',\n",
      "                        u'DK',\n",
      "                        u'DO',\n",
      "                        u'DE',\n",
      "                        u'EC',\n",
      "                        u'EE',\n",
      "                        u'SV',\n",
      "                        u'FI',\n",
      "                        u'FR',\n",
      "                        u'GR',\n",
      "                        u'GT',\n",
      "                        u'HN',\n",
      "                        u'HK',\n",
      "                        u'HU',\n",
      "                        u'IS',\n",
      "                        u'IE',\n",
      "                        u'IT',\n",
      "                        u'LV',\n",
      "                        u'LT',\n",
      "                        u'LU',\n",
      "                        u'MY',\n",
      "                        u'MT',\n",
      "                        u'MX',\n",
      "                        u'NL',\n",
      "                        u'NZ',\n",
      "                        u'NI',\n",
      "                        u'NO',\n",
      "                        u'PA',\n",
      "                        u'PY',\n",
      "                        u'PE',\n",
      "                        u'PH',\n",
      "                        u'PL',\n",
      "                        u'PT',\n",
      "                        u'SG',\n",
      "                        u'SK',\n",
      "                        u'ES',\n",
      "                        u'SE',\n",
      "                        u'CH',\n",
      "                        u'TW',\n",
      "                        u'TR',\n",
      "                        u'UY',\n",
      "                        u'US',\n",
      "                        u'GB',\n",
      "                        u'AD',\n",
      "                        u'LI',\n",
      "                        u'MC',\n",
      "                        u'ID'],\n",
      " u'disc_number': 1,\n",
      " u'duration_ms': 116049,\n",
      " u'explicit': False,\n",
      " u'external_ids': {u'isrc': u'US4R31225793'},\n",
      " u'external_urls': {u'spotify': u'https://open.spotify.com/track/3CtZB2dVuHWHXIGShH9jUK'},\n",
      " u'href': u'https://api.spotify.com/v1/tracks/3CtZB2dVuHWHXIGShH9jUK',\n",
      " u'id': u'3CtZB2dVuHWHXIGShH9jUK',\n",
      " u'name': u'Silver Scrapes (As Featured In League of Legends Season 2 World Championship)',\n",
      " u'popularity': 49,\n",
      " u'preview_url': u'https://p.scdn.co/mp3-preview/cf7582fb8880c4305834a83401871fd03872553e',\n",
      " u'track_number': 1,\n",
      " u'type': u'track',\n",
      " u'uri': u'spotify:track:3CtZB2dVuHWHXIGShH9jUK'}\n"
     ]
    }
   ],
   "source": []
  },
  {
   "cell_type": "code",
   "execution_count": 23,
   "metadata": {
    "collapsed": false
   },
   "outputs": [
    {
     "ename": "SpotifyOauthError",
     "evalue": "No client id",
     "output_type": "error",
     "traceback": [
      "\u001b[0;31m---------------------------------------------------------------------------\u001b[0m",
      "\u001b[0;31mSpotifyOauthError\u001b[0m                         Traceback (most recent call last)",
      "\u001b[0;32m<ipython-input-23-680213773e75>\u001b[0m in \u001b[0;36m<module>\u001b[0;34m()\u001b[0m\n\u001b[1;32m      3\u001b[0m \u001b[0;32mimport\u001b[0m \u001b[0mpprint\u001b[0m\u001b[0;34m\u001b[0m\u001b[0m\n\u001b[1;32m      4\u001b[0m \u001b[0;34m\u001b[0m\u001b[0m\n\u001b[0;32m----> 5\u001b[0;31m \u001b[0mclient_credentials_manager\u001b[0m \u001b[0;34m=\u001b[0m \u001b[0mSpotifyClientCredentials\u001b[0m\u001b[0;34m(\u001b[0m\u001b[0;34m)\u001b[0m\u001b[0;34m\u001b[0m\u001b[0m\n\u001b[0m\u001b[1;32m      6\u001b[0m \u001b[0msp\u001b[0m \u001b[0;34m=\u001b[0m \u001b[0mspotipy\u001b[0m\u001b[0;34m.\u001b[0m\u001b[0mSpotify\u001b[0m\u001b[0;34m(\u001b[0m\u001b[0mclient_credentials_manager\u001b[0m\u001b[0;34m=\u001b[0m\u001b[0mclient_credentials_manager\u001b[0m\u001b[0;34m)\u001b[0m\u001b[0;34m\u001b[0m\u001b[0m\n\u001b[1;32m      7\u001b[0m \u001b[0;34m\u001b[0m\u001b[0m\n",
      "\u001b[0;32m/Users/conor/anaconda/lib/python2.7/site-packages/spotipy/oauth2.pyc\u001b[0m in \u001b[0;36m__init__\u001b[0;34m(self, client_id, client_secret)\u001b[0m\n\u001b[1;32m     37\u001b[0m \u001b[0;34m\u001b[0m\u001b[0m\n\u001b[1;32m     38\u001b[0m         \u001b[0;32mif\u001b[0m \u001b[0;32mnot\u001b[0m \u001b[0mclient_id\u001b[0m\u001b[0;34m:\u001b[0m\u001b[0;34m\u001b[0m\u001b[0m\n\u001b[0;32m---> 39\u001b[0;31m             \u001b[0;32mraise\u001b[0m \u001b[0mSpotifyOauthError\u001b[0m\u001b[0;34m(\u001b[0m\u001b[0;34m'No client id'\u001b[0m\u001b[0;34m)\u001b[0m\u001b[0;34m\u001b[0m\u001b[0m\n\u001b[0m\u001b[1;32m     40\u001b[0m \u001b[0;34m\u001b[0m\u001b[0m\n\u001b[1;32m     41\u001b[0m         \u001b[0;32mif\u001b[0m \u001b[0;32mnot\u001b[0m \u001b[0mclient_secret\u001b[0m\u001b[0;34m:\u001b[0m\u001b[0;34m\u001b[0m\u001b[0m\n",
      "\u001b[0;31mSpotifyOauthError\u001b[0m: No client id"
     ]
    }
   ],
   "source": [
    "from spotipy.oauth2 import SpotifyClientCredentials\n",
    "import spotipy\n",
    "import pprint\n",
    "\n",
    "client_credentials_manager = SpotifyClientCredentials()\n",
    "sp = spotipy.Spotify(client_credentials_manager=client_credentials_manager)\n",
    "\n",
    "search_str = 'Muse'\n",
    "result = sp.search(search_str)\n",
    "pprint.pprint(result)"
   ]
  },
  {
   "cell_type": "code",
   "execution_count": 20,
   "metadata": {
    "collapsed": false
   },
   "outputs": [],
   "source": [
    "import spotipy.util as util\n",
    "\n",
    "token = util.prompt_for_user_token('conordowling', \n",
    "                           client_id = '2c3462dae14e4d98a25c37a7717efb9c', \n",
    "                           client_secret= 'b23df68f58a043858cfdc0186c5658fd', \n",
    "                           redirect_uri= 'http://facebook.com'\n",
    ")"
   ]
  },
  {
   "cell_type": "code",
   "execution_count": 21,
   "metadata": {
    "collapsed": false
   },
   "outputs": [
    {
     "data": {
      "text/plain": [
       "u'BQBpU-qt7n0xCi-SkfxA8kaY6kQctrymKctxrifuNoR04qKKo-dnGrwU8GnOO1IrX5-jXT32VoV-WxeH2_N8ZcoJ9P_8zNTDfPA7OXV_wx_ue1mdZxM2u7qKr0s1KmjBM5Zou1WKtDQ'"
      ]
     },
     "execution_count": 21,
     "metadata": {},
     "output_type": "execute_result"
    }
   ],
   "source": [
    "token"
   ]
  },
  {
   "cell_type": "code",
   "execution_count": null,
   "metadata": {
    "collapsed": true
   },
   "outputs": [],
   "source": []
  }
 ],
 "metadata": {
  "kernelspec": {
   "display_name": "Python 2",
   "language": "python",
   "name": "python2"
  },
  "language_info": {
   "codemirror_mode": {
    "name": "ipython",
    "version": 2
   },
   "file_extension": ".py",
   "mimetype": "text/x-python",
   "name": "python",
   "nbconvert_exporter": "python",
   "pygments_lexer": "ipython2",
   "version": "2.7.10"
  }
 },
 "nbformat": 4,
 "nbformat_minor": 0
}
